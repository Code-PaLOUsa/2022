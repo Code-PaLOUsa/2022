{
    "metadata": {
        "kernelspec": {
            "name": "powershell",
            "display_name": "PowerShell",
            "language": "powershell"
        },
        "language_info": {
            "name": "powershell",
            "codemirror_mode": "shell",
            "mimetype": "text/x-sh",
            "file_extension": ".ps1"
        },
        "extensions": {
            "azuredatastudio": {
                "version": 1,
                "views": []
            }
        }
    },
    "nbformat_minor": 2,
    "nbformat": 4,
    "cells": [
        {
            "cell_type": "code",
            "source": [
                "az -h"
            ],
            "metadata": {
                "azdata_cell_guid": "00264d5f-32c2-4776-ac19-bfdfb3178395",
                "language": "powershell"
            },
            "outputs": [],
            "execution_count": null
        },
        {
            "cell_type": "code",
            "source": [
                "# set you Azure subscription id and run this cell before any of the others\r\n",
                "$subscriptionId = '<your subscription id>'"
            ],
            "metadata": {
                "azdata_cell_guid": "cb3caaf3-338f-4bad-8d66-54d3178bf9bf",
                "language": "powershell"
            },
            "outputs": [
                {
                    "output_type": "stream",
                    "name": "stdout",
                    "text": ""
                }
            ],
            "execution_count": 8
        },
        {
            "cell_type": "markdown",
            "source": [
                "### List all databases in all resource groups in the subscription"
            ],
            "metadata": {
                "language": "powershell",
                "azdata_cell_guid": "46696f74-da84-4456-a163-1cf381aa8175"
            },
            "attachments": {}
        },
        {
            "cell_type": "code",
            "source": [
                "$resourceGroups = az group list --subscription $subscriptionId --query [].name -o tsv\r\n",
                "Write-Host $resourceGroups"
            ],
            "metadata": {
                "azdata_cell_guid": "8f1027f6-8427-4140-af48-3abad1cfcd5b",
                "language": "powershell"
            },
            "outputs": [],
            "execution_count": 10
        },
        {
            "cell_type": "code",
            "source": [
                "$query=\"[].{Name:name,Status:status,Tier:edition,ElasticPool:elasticPoolName,Location:location}\"\r\n",
                "foreach ($resourceGroup in $resourceGroups)\r\n",
                "{\r\n",
                "    $servers = az sql server list --subscription $subscriptionId -g $resourceGroup --query [].name -o tsv\r\n",
                "    if ($servers)\r\n",
                "    {\r\n",
                "        Write-Host \"resource group = $resourceGroup\"\r\n",
                "        foreach ($server in $servers)\r\n",
                "        {\r\n",
                "            Write-Host \"database server = $server\"\r\n",
                "            az sql db list --subscription $subscriptionId --resource-group $resourceGroup --server $server --query $query -o table\r\n",
                "        }\r\n",
                "    }\r\n",
                "}"
            ],
            "metadata": {
                "language": "powershell",
                "azdata_cell_guid": "689e0f7e-2567-4420-8778-f68224ab890d"
            },
            "outputs": [],
            "execution_count": 20
        },
        {
            "cell_type": "markdown",
            "source": [
                "### Get the KeyVault access policies for a specific service principal"
            ],
            "metadata": {
                "language": "powershell",
                "azdata_cell_guid": "901f3b73-1f35-4065-9b1e-2a413eae5bde"
            },
            "attachments": {}
        },
        {
            "cell_type": "code",
            "source": [
                "$spnId='<some service principal id>'\r\n",
                "#az ad sp show --id $spnId\r\n",
                "\r\n",
                "az keyvault show --name <key vault name> --query \"properties.accessPolicies[?objectId == '$spnId']\""
            ],
            "metadata": {
                "language": "powershell",
                "azdata_cell_guid": "81743f65-d408-4c72-8ffd-6ca58bf9f993"
            },
            "outputs": [],
            "execution_count": null
        }
    ]
}